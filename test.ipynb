{
 "cells": [
  {
   "cell_type": "code",
   "execution_count": 26,
   "metadata": {},
   "outputs": [],
   "source": [
    "from jam_gpt import Data, Tokenizer, Config, LM, Model"
   ]
  },
  {
   "cell_type": "code",
   "execution_count": 27,
   "metadata": {},
   "outputs": [
    {
     "name": "stdout",
     "output_type": "stream",
     "text": [
      "97\n",
      "0.213857 M parameters\n",
      "step 0: train loss 4.7379, val loss 4.7384\n",
      "step 100: train loss 2.6485, val loss 2.6231\n",
      "step 200: train loss 2.5201, val loss 2.4856\n",
      "step 300: train loss 2.4367, val loss 2.4231\n",
      "step 400: train loss 2.3617, val loss 2.3293\n",
      "step 500: train loss 2.2961, val loss 2.2623\n",
      "step 600: train loss 2.2255, val loss 2.1885\n",
      "step 700: train loss 2.1555, val loss 2.1228\n",
      "step 800: train loss 2.0844, val loss 2.0698\n",
      "step 900: train loss 2.0673, val loss 2.0435\n",
      "step 1000: train loss 2.0157, val loss 1.9924\n",
      "step 1100: train loss 1.9740, val loss 1.9640\n",
      "step 1200: train loss 1.9510, val loss 1.9258\n",
      "step 1300: train loss 1.9139, val loss 1.8939\n",
      "step 1400: train loss 1.8955, val loss 1.8826\n",
      "step 1500: train loss 1.8670, val loss 1.8519\n",
      "step 1600: train loss 1.8406, val loss 1.8354\n",
      "step 1700: train loss 1.8154, val loss 1.8184\n",
      "step 1800: train loss 1.8012, val loss 1.7837\n",
      "step 1900: train loss 1.7639, val loss 1.7697\n",
      "step 2000: train loss 1.7557, val loss 1.7553\n",
      "step 2100: train loss 1.7432, val loss 1.7459\n",
      "step 2200: train loss 1.7183, val loss 1.7311\n",
      "step 2300: train loss 1.7036, val loss 1.7177\n",
      "step 2400: train loss 1.6987, val loss 1.7047\n",
      "step 2500: train loss 1.6913, val loss 1.6883\n",
      "step 2600: train loss 1.6719, val loss 1.6845\n",
      "step 2700: train loss 1.6751, val loss 1.6710\n",
      "step 2800: train loss 1.6534, val loss 1.6724\n",
      "step 2900: train loss 1.6369, val loss 1.6599\n",
      "step 3000: train loss 1.6289, val loss 1.6564\n",
      "step 3100: train loss 1.6256, val loss 1.6507\n",
      "step 3200: train loss 1.6050, val loss 1.6236\n",
      "step 3300: train loss 1.6131, val loss 1.6289\n",
      "step 3400: train loss 1.5831, val loss 1.6154\n",
      "step 3500: train loss 1.5990, val loss 1.6069\n",
      "step 3600: train loss 1.5836, val loss 1.6036\n",
      "step 3700: train loss 1.5796, val loss 1.6174\n",
      "step 3800: train loss 1.5572, val loss 1.5955\n",
      "step 3900: train loss 1.5691, val loss 1.5906\n",
      "step 4000: train loss 1.5594, val loss 1.5867\n",
      "step 4100: train loss 1.5577, val loss 1.6035\n",
      "step 4200: train loss 1.5413, val loss 1.5990\n",
      "step 4300: train loss 1.5508, val loss 1.5900\n",
      "step 4400: train loss 1.5422, val loss 1.5699\n",
      "step 4500: train loss 1.5280, val loss 1.5724\n",
      "step 4600: train loss 1.5172, val loss 1.5754\n",
      "step 4700: train loss 1.5237, val loss 1.5740\n",
      "step 4800: train loss 1.5092, val loss 1.5604\n",
      "step 4900: train loss 1.5126, val loss 1.5601\n"
     ]
    }
   ],
   "source": [
    "tok = Tokenizer()\n",
    "\n",
    "\n",
    "path = \"data.txt\"\n",
    "\n",
    "# data collection\n",
    "data = Data.get(path)\n",
    "\n",
    "# tokanization\n",
    "tok.set_encoding(\"md-test-01\", data)\n",
    "tok.get_encoding(\"md-test-01\")\n",
    "enc_data = tok.encode(data)\n",
    "\n",
    "# setting parameters\n",
    "args = Config.pass_args()\n",
    "args[0] = tok.n_vocab\n",
    "print(tok.n_vocab)\n",
    "\n",
    "# model genration\n",
    "test_model = Model()\n",
    "test_model.set_parameters(args)\n",
    "\n",
    "lm = LM()\n",
    "lm.set_parameters(args)\n",
    "\n",
    "test_model.set_model(lm.BigramLanguageModel())\n",
    "test_model.set_data(Data.train_test_split(enc_data))\n",
    "# test_model.load_model(\"md-test-01\")\n",
    "test_model.optimize()\n",
    "test_model.train()\n"
   ]
  },
  {
   "cell_type": "code",
   "execution_count": 28,
   "metadata": {},
   "outputs": [],
   "source": [
    "test_model.save_model(\"md-test-01\")"
   ]
  },
  {
   "cell_type": "code",
   "execution_count": 29,
   "metadata": {},
   "outputs": [
    {
     "name": "stdout",
     "output_type": "stream",
     "text": [
      "pythonk another men. dugwom in which he earcons that indidultimarch.\n",
      "Taakes. In thistic unione, when the sensity of powersonation for cord to thems God not teares the helplew makement roucation as dect, dis thad thatrunhipmother, fact; on by am.\"The prooblem Every or these herse oftene consci\n",
      "biother.\n",
      "Concentity of himself, byform there rimal which and the leaks of Mar, Sely without lovgbing. One whi not fact that, she viscustner be all apraceed from himself, buy mearx as laged imasvious vimappor to t\n"
     ]
    }
   ],
   "source": [
    "pmt = tok.encode(\"python\")\n",
    "print(tok.decode(test_model.generate(pmt)))"
   ]
  },
  {
   "cell_type": "markdown",
   "metadata": {},
   "source": []
  }
 ],
 "metadata": {
  "kernelspec": {
   "display_name": "Python 3",
   "language": "python",
   "name": "python3"
  },
  "language_info": {
   "codemirror_mode": {
    "name": "ipython",
    "version": 3
   },
   "file_extension": ".py",
   "mimetype": "text/x-python",
   "name": "python",
   "nbconvert_exporter": "python",
   "pygments_lexer": "ipython3",
   "version": "3.11.4"
  },
  "orig_nbformat": 4
 },
 "nbformat": 4,
 "nbformat_minor": 2
}
