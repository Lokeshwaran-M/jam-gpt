{
 "cells": [
  {
   "cell_type": "code",
   "execution_count": 1,
   "metadata": {},
   "outputs": [
    {
     "name": "stdout",
     "output_type": "stream",
     "text": [
      "# -------------------------------------#\n",
      "# hyperparameters\n",
      "vocab_size          :  0\n",
      "batch_size          :  32\n",
      "block_size          :  256\n",
      "max_iters           :  5000\n",
      "eval_interval       :  250\n",
      "learning_rate       :  0.001\n",
      "device              :  cuda\n",
      "eval_iters          :  200\n",
      "n_embd              :  384\n",
      "n_head              :  6\n",
      "n_layer             :  6\n",
      "dropout             :  0.2\n",
      "model_architecture  :  None\n",
      "# -------------------------------------#\n",
      "CPU times: user 2.06 s, sys: 1.03 s, total: 3.09 s\n",
      "Wall time: 2.08 s\n"
     ]
    }
   ],
   "source": [
    "%%time\n",
    "from jam_gpt import Data, Tokenizer, config, lm, Model"
   ]
  },
  {
   "cell_type": "markdown",
   "metadata": {},
   "source": [
    "### Time taken to load library :\n",
    "\n",
    "    time : 15.9s"
   ]
  },
  {
   "cell_type": "code",
   "execution_count": 2,
   "metadata": {},
   "outputs": [
    {
     "name": "stdout",
     "output_type": "stream",
     "text": [
      "vocab size :  101\n",
      "parameters :  0.214373  M\n",
      "# -------------------------------------#\n",
      "# hyperparameters\n",
      "vocab_size          :  101\n",
      "batch_size          :  16\n",
      "block_size          :  32\n",
      "max_iters           :  5000\n",
      "eval_interval       :  100\n",
      "learning_rate       :  0.001\n",
      "device              :  cpu\n",
      "eval_iters          :  200\n",
      "n_embd              :  64\n",
      "n_head              :  4\n",
      "n_layer             :  4\n",
      "dropout             :  0.0\n",
      "model_architecture  :  lm.BigramLM\n",
      "# -------------------------------------#\n",
      "CPU times: user 1.17 s, sys: 590 ms, total: 1.76 s\n",
      "Wall time: 13.6 s\n"
     ]
    }
   ],
   "source": [
    "%%time\n",
    "tok = Tokenizer()\n",
    "\n",
    "\n",
    "# path = \"./data-set/linuxsourcecodesnippets.txt\"\n",
    "\n",
    "# # data collection\n",
    "# data = Data.get(path)\n",
    "\n",
    "# tokanization\n",
    "model_name = \"md-t02-bglm\"\n",
    "# tok.set_encoding(model_name, data)\n",
    "tok.get_encoding(model_name)\n",
    "# enc_data = tok.encode(data)\n",
    "\n",
    "# # setting parameters\n",
    "# config.vocab_size = tok.n_vocab\n",
    "config.retrive(\"md-t02-bglm\")\n",
    "config.device=\"cpu\"\n",
    "\n",
    "# model genration\n",
    "test_model = Model()\n",
    "# test_model.set_model(lm.BigramLM())\n",
    "# test_model.set_data(Data.train_test_split(enc_data))\n",
    "# test_model.optimize()\n",
    "# test_model.train()\n",
    "test_model.load_model(model_name,args=config.pass_args())\n"
   ]
  },
  {
   "cell_type": "markdown",
   "metadata": {},
   "source": [
    "### Traning detials : \n",
    "    step 4900 : train loss 1.6238, val loss 1.7738\n",
    "    traning time : 7m 54.9s"
   ]
  },
  {
   "cell_type": "code",
   "execution_count": null,
   "metadata": {},
   "outputs": [],
   "source": [
    "# test_model.save_model(model_name)"
   ]
  },
  {
   "cell_type": "code",
   "execution_count": 3,
   "metadata": {},
   "outputs": [
    {
     "name": "stdout",
     "output_type": "stream",
     "text": [
      "linux engine\n",
      "/*\n",
      " * Find a physical address of a virtual object..\n",
      " *\n",
      " * This is easy using the virtual page table address.\n",
      " */\n",
      "aread_entry_signd_flags - &&\n",
      "numq_backlog_copy(blkcg.list_entry);\n",
      "}\n",
      "#uf CONFIL_MMPIN)\n",
      "\n",
      "/*\n",
      " * Eewarity_idx_init_of(wq, info, entry, struct filt *info, \"after\\n\", true;\n",
      "\tstimct eventpol_shm_fs(char->show,final_entry_chunk_bytes &&\n",
      "#inc 0,\n",
      "\t.iostic\t\t= bio_put_current_lock();\n",
      "\n",
      "\treturn long rb_lock++)\n",
      "\t\treturn alg;\n",
      "\t\tif (struct epitem; i err)\n",
      "{\n",
      "\tsize = kmq_wait_work(rq->wq);\n",
      "\n",
      "\tif (info->wait_country(CONFIG_NO *, 0)\n",
      "\t\treturn -ENOEMEC(\"Cown of thrating listrimitions, the last begup han it IPC__ENOMEM t\n",
      "CPU times: user 11.1 s, sys: 24.6 ms, total: 11.1 s\n",
      "Wall time: 6.33 s\n"
     ]
    }
   ],
   "source": [
    "%%time\n",
    "pmt = tok.encode(\"\"\"linux engine\n",
    "/*\n",
    " * Find a physical address of a virtual object..\n",
    " *\n",
    " * This is easy using the virtual page table address.\n",
    " */\n",
    "\"\"\")\n",
    "print(tok.decode(test_model.generate(pmt)))"
   ]
  }
 ],
 "metadata": {
  "kernelspec": {
   "display_name": "Python 3",
   "language": "python",
   "name": "python3"
  },
  "language_info": {
   "codemirror_mode": {
    "name": "ipython",
    "version": 3
   },
   "file_extension": ".py",
   "mimetype": "text/x-python",
   "name": "python",
   "nbconvert_exporter": "python",
   "pygments_lexer": "ipython3",
   "version": "3.11.5"
  },
  "orig_nbformat": 4
 },
 "nbformat": 4,
 "nbformat_minor": 2
}
