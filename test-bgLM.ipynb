{
 "cells": [
  {
   "cell_type": "code",
   "execution_count": 1,
   "metadata": {},
   "outputs": [],
   "source": [
    "from jam_gpt import Data, Tokenizer, Config, LM, Model"
   ]
  },
  {
   "cell_type": "code",
   "execution_count": 2,
   "metadata": {},
   "outputs": [
    {
     "name": "stdout",
     "output_type": "stream",
     "text": [
      "97\n",
      "0.213857 M parameters\n"
     ]
    }
   ],
   "source": [
    "tok = Tokenizer()\n",
    "\n",
    "\n",
    "path = \"data.txt\"\n",
    "\n",
    "# data collection\n",
    "data = Data.get(path)\n",
    "\n",
    "# tokanization\n",
    "model_name = \"md-test-01\"\n",
    "tok.set_encoding(model_name, data)\n",
    "tok.get_encoding(model_name)\n",
    "enc_data = tok.encode(data)\n",
    "\n",
    "# setting parameters\n",
    "args = Config.pass_args()\n",
    "args[0] = tok.n_vocab\n",
    "print(tok.n_vocab)\n",
    "\n",
    "# model genration\n",
    "test_model = Model()\n",
    "test_model.set_parameters(args)\n",
    "\n",
    "lm = LM()\n",
    "lm.set_parameters(args)\n",
    "\n",
    "test_model.set_model(lm.BigramLanguageModel())\n",
    "# test_model.set_data(Data.train_test_split(enc_data))\n",
    "test_model.load_model(model_name)\n",
    "# test_model.optimize()\n",
    "# test_model.train()\n"
   ]
  },
  {
   "cell_type": "markdown",
   "metadata": {},
   "source": []
  },
  {
   "cell_type": "code",
   "execution_count": 3,
   "metadata": {},
   "outputs": [],
   "source": [
    "# test_model.save_model(model_name)"
   ]
  },
  {
   "cell_type": "code",
   "execution_count": 4,
   "metadata": {},
   "outputs": [
    {
     "name": "stdout",
     "output_type": "stream",
     "text": [
      "love and sex-telare shobve by uffeels an aniver, is heaving the consciation of is him social real of theFred I Mhice rights in respactival\n",
      "G\n",
      "volute. For himsocreatives and motionstic race adkemine, think anyworld and ore in lifficularper awarger this ibedient attemosicbath,imwho is love although himby tway to STcheEack. The socialianiona forsteron ow all hropowns. Sake.\n",
      "\n",
      "Master foriewit erot intensely love feel are unliticals that oftecoman's abited has pictures of casentity is person. A contempt in theloob\n"
     ]
    }
   ],
   "source": [
    "pmt = tok.encode(\"love and sex\")\n",
    "print(tok.decode(test_model.generate(pmt)))"
   ]
  },
  {
   "cell_type": "code",
   "execution_count": 9,
   "metadata": {},
   "outputs": [
    {
     "data": {
      "text/plain": [
       "'hello world'"
      ]
     },
     "execution_count": 9,
     "metadata": {},
     "output_type": "execute_result"
    }
   ],
   "source": [
    "import tiktoken\n",
    "\n",
    "tok = tiktoken.get_encoding(\"gpt2\")\n",
    "\n",
    "encoded_string = tok.encode(\"hello world\")\n",
    "decoded_string = tok.decode(encoded_string)\n",
    "\n"
   ]
  },
  {
   "cell_type": "code",
   "execution_count": 11,
   "metadata": {},
   "outputs": [
    {
     "ename": "AttributeError",
     "evalue": "'Encoding' object has no attribute 'vocab_size'",
     "output_type": "error",
     "traceback": [
      "\u001b[0;31m---------------------------------------------------------------------------\u001b[0m",
      "\u001b[0;31mAttributeError\u001b[0m                            Traceback (most recent call last)",
      "Cell \u001b[0;32mIn[11], line 1\u001b[0m\n\u001b[0;32m----> 1\u001b[0m tok\u001b[39m.\u001b[39;49mvocab_size\n",
      "\u001b[0;31mAttributeError\u001b[0m: 'Encoding' object has no attribute 'vocab_size'"
     ]
    }
   ],
   "source": [
    "\n"
   ]
  },
  {
   "cell_type": "markdown",
   "metadata": {},
   "source": []
  }
 ],
 "metadata": {
  "kernelspec": {
   "display_name": "Python 3",
   "language": "python",
   "name": "python3"
  },
  "language_info": {
   "codemirror_mode": {
    "name": "ipython",
    "version": 3
   },
   "file_extension": ".py",
   "mimetype": "text/x-python",
   "name": "python",
   "nbconvert_exporter": "python",
   "pygments_lexer": "ipython3",
   "version": "3.11.4"
  },
  "orig_nbformat": 4
 },
 "nbformat": 4,
 "nbformat_minor": 2
}
