{
 "cells": [
  {
   "cell_type": "code",
   "execution_count": 33,
   "metadata": {},
   "outputs": [],
   "source": [
    "from jam_gpt import Data, Tokenizer, Config, lm, Model"
   ]
  },
  {
   "cell_type": "code",
   "execution_count": 34,
   "metadata": {},
   "outputs": [
    {
     "name": "stdout",
     "output_type": "stream",
     "text": [
      "97\n",
      "0.213857 M parameters\n"
     ]
    }
   ],
   "source": [
    "tok = Tokenizer()\n",
    "\n",
    "\n",
    "path = \"data.txt\"\n",
    "\n",
    "# data collection\n",
    "data = Data.get(path)\n",
    "\n",
    "# tokanization\n",
    "model_name = \"md-test-01\"\n",
    "tok.set_encoding(model_name, data)\n",
    "tok.get_encoding(model_name)\n",
    "enc_data = tok.encode(data)\n",
    "\n",
    "# setting parameters\n",
    "args = Config.pass_args()\n",
    "args[0] = tok.n_vocab\n",
    "print(tok.n_vocab)\n",
    "\n",
    "# model genration\n",
    "test_model = Model()\n",
    "test_model.set_parameters(args)\n",
    "\n",
    "\n",
    "lm.set_parameters(args)\n",
    "\n",
    "test_model.set_model(lm.BigramLanguageModel())\n",
    "# test_model.set_data(Data.train_test_split(enc_data))\n",
    "test_model.load_model(model_name)\n",
    "# test_model.optimize()\n",
    "# test_model.train()\n"
   ]
  },
  {
   "cell_type": "code",
   "execution_count": 35,
   "metadata": {},
   "outputs": [],
   "source": [
    "# test_model.save_model(model_name)"
   ]
  },
  {
   "cell_type": "code",
   "execution_count": 36,
   "metadata": {},
   "outputs": [
    {
     "name": "stdout",
     "output_type": "stream",
     "text": [
      "love and sexual pilireoplicially live withou it was of the geneeds of nevel can which is the hindisto asmochistic soclostic erote in the hingic power emigninal not loving make \"not knowledge is human butin ore word in unconsandity the indifficults he person,is ratriedof motistined in concere of the viortume his need to to re-ceiveld, and the related and and not moment a entiral malcisonal attitudite is both tharelyfunction, must bean \"cultrue that Srined by this preseein give himself esciationa, by ow try p\n"
     ]
    }
   ],
   "source": [
    "pmt = tok.encode(\"love and sex\")\n",
    "print(tok.decode(test_model.generate(pmt)))"
   ]
  }
 ],
 "metadata": {
  "kernelspec": {
   "display_name": "Python 3",
   "language": "python",
   "name": "python3"
  },
  "language_info": {
   "codemirror_mode": {
    "name": "ipython",
    "version": 3
   },
   "file_extension": ".py",
   "mimetype": "text/x-python",
   "name": "python",
   "nbconvert_exporter": "python",
   "pygments_lexer": "ipython3",
   "version": "3.11.4"
  },
  "orig_nbformat": 4
 },
 "nbformat": 4,
 "nbformat_minor": 2
}
