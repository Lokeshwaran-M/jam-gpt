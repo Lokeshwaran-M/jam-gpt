{
 "cells": [
  {
   "cell_type": "code",
   "execution_count": 1,
   "metadata": {},
   "outputs": [
    {
     "name": "stdout",
     "output_type": "stream",
     "text": [
      "# -------------------------------------#\n",
      "# hyperparameters\n",
      "vocab_size          :  0\n",
      "batch_size          :  32\n",
      "block_size          :  256\n",
      "max_iters           :  5000\n",
      "eval_interval       :  250\n",
      "learning_rate       :  0.001\n",
      "device              :  cuda\n",
      "eval_iters          :  200\n",
      "n_embd              :  384\n",
      "n_head              :  6\n",
      "n_layer             :  6\n",
      "dropout             :  0.2\n",
      "model_architecture  :  None\n",
      "# -------------------------------------#\n"
     ]
    }
   ],
   "source": [
    "from jam_gpt import Data, Tokenizer, config, lm, Model\n",
    "import tiktoken # type: ignore"
   ]
  },
  {
   "cell_type": "code",
   "execution_count": null,
   "metadata": {},
   "outputs": [],
   "source": [
    "\n",
    "path = \"./data-set/md-to.txt\"\n",
    "data = Data.get(path)\n",
    "\n",
    "config.vocab_size = 50257\n",
    "tok = tiktoken.get_encoding(\"gpt2\")\n",
    "enc_data = tok.encode(data)\n",
    "\n",
    "model_name = \"md-t0\"\n",
    "\n",
    "# model genration\n",
    "model = Model()\n",
    "\n",
    "model.set_model(lm.GPTLM())\n",
    "model.set_data(Data.train_test_split(enc_data))\n",
    "\n",
    "model.optimize()\n",
    "model.train()"
   ]
  },
  {
   "cell_type": "code",
   "execution_count": null,
   "metadata": {},
   "outputs": [],
   "source": [
    "# model.save_model(model_name)"
   ]
  },
  {
   "cell_type": "code",
   "execution_count": null,
   "metadata": {},
   "outputs": [],
   "source": [
    "# model.load_model(model_name)"
   ]
  },
  {
   "cell_type": "code",
   "execution_count": null,
   "metadata": {},
   "outputs": [
    {
     "name": "stdout",
     "output_type": "stream",
     "text": [
      "I love you read, as overI-52, you are all, a loved are\n",
      "THE THEORY OF LOVE 117 whohas him.\n",
      "The same emphasis in Both views on aspects, but wearehuman all types of exchange. In the opposite is not that sheent connection between their child, she must it. Hence thinking should receive its veryess Kali; when he does notaches to love; the childanxietyis the child are of giving must love the than to love.Inasmuch when we mean that using all one can do miracles, not do miracles, not liveser to be as much as everything, to receive unconditional—all persons dis nature, is a need to follow the child or mother; he promises he also she remainsutter her, sees only when they belong to her bodily sensitivity toward theattitudes.\n",
      "In all of fixation usually occurs after man not thinkingbut as others, but discipline, this need something apart; mother only one has nots, symbolized?\n",
      "As more since these viewsis that she\n",
      "sto take him, explores the evening, of it remains superficial they are affected by their bliss anxiety. At this path to receiving.\n",
      "than the insane. One premise,the otherm,the ability more conducive to mother, so on to be an\n",
      "poss discussion of the one's own human functioning, and for the object of duty, and we are all shareother with God,the prepondervercoming the mostkft grow from the center of truth. Tosecret is essentially the individualical character, the only one makes them on the children. Sheis that~oved/ is suffer is to be loved by a welove, is impossible for that of in two systems to do not one's breathing;not, but it\n",
      "it is now to be taught, such an alienated from whichimwardsity is taken rich. Theillusiones that for external I assume a pattern of the consciousness of this goal of this lack of separateism, it,fyou only the following discmanent and again his value; in our fellowman, and so a \"For\n",
      "than the book explores which one/ and to destroy. For the one's development: for the two individuals of the use of meaning of God. The mostele—alienable emphasis on the concept of\n",
      "THE THEORY OF LOVE 45phis trend of thought and complain bitterly about the earlieststage in thought. In contrast to live separate words, that all this I aml\n"
     ]
    }
   ],
   "source": [
    "pmt = tok.encode(\"I love you\")\n",
    "print(tok.decode(model.generate(pmt)))"
   ]
  },
  {
   "cell_type": "code",
   "execution_count": null,
   "metadata": {},
   "outputs": [],
   "source": []
  }
 ],
 "metadata": {
  "kernelspec": {
   "display_name": "Python 3",
   "language": "python",
   "name": "python3"
  },
  "language_info": {
   "codemirror_mode": {
    "name": "ipython",
    "version": 3
   },
   "file_extension": ".py",
   "mimetype": "text/x-python",
   "name": "python",
   "nbconvert_exporter": "python",
   "pygments_lexer": "ipython3",
   "version": "3.11.9"
  },
  "orig_nbformat": 4
 },
 "nbformat": 4,
 "nbformat_minor": 2
}
