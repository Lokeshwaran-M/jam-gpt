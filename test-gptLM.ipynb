{
 "cells": [
  {
   "cell_type": "code",
   "execution_count": 1,
   "metadata": {},
   "outputs": [],
   "source": [
    "from jam_gpt import Data, Tokenizer, Config, lm, Model\n",
    "import tiktoken"
   ]
  },
  {
   "cell_type": "code",
   "execution_count": 4,
   "metadata": {},
   "outputs": [
    {
     "name": "stdout",
     "output_type": "stream",
     "text": [
      "vocab size :  50257\n",
      "6.684497 M parameters\n",
      "step 0: train loss 11.0222, val loss 11.0166\n",
      "step 100: train loss 6.8937, val loss 6.9959\n",
      "step 200: train loss 6.6603, val loss 6.8632\n",
      "step 300: train loss 6.3637, val loss 6.6080\n",
      "step 400: train loss 6.0672, val loss 6.4602\n",
      "step 500: train loss 5.7936, val loss 6.3386\n",
      "step 600: train loss 5.5554, val loss 6.2656\n",
      "step 700: train loss 5.2995, val loss 6.2343\n",
      "step 800: train loss 5.1019, val loss 6.2091\n",
      "step 900: train loss 4.9079, val loss 6.2280\n",
      "step 1000: train loss 4.7314, val loss 6.2584\n",
      "step 1100: train loss 4.5547, val loss 6.2829\n",
      "step 1200: train loss 4.4226, val loss 6.3014\n",
      "step 1300: train loss 4.2793, val loss 6.3602\n",
      "step 1400: train loss 4.1389, val loss 6.4077\n",
      "step 1500: train loss 4.0291, val loss 6.4506\n",
      "step 1600: train loss 3.9129, val loss 6.5261\n",
      "step 1700: train loss 3.7945, val loss 6.5991\n",
      "step 1800: train loss 3.6972, val loss 6.6667\n",
      "step 1900: train loss 3.6185, val loss 6.7221\n",
      "step 2000: train loss 3.4926, val loss 6.7727\n",
      "step 2100: train loss 3.4235, val loss 6.8546\n",
      "step 2200: train loss 3.3190, val loss 6.9201\n",
      "step 2300: train loss 3.2298, val loss 7.0141\n",
      "step 2400: train loss 3.1597, val loss 7.0664\n",
      "step 2500: train loss 3.0672, val loss 7.1422\n",
      "step 2600: train loss 2.9828, val loss 7.2203\n",
      "step 2700: train loss 2.9017, val loss 7.3209\n",
      "step 2800: train loss 2.8159, val loss 7.4130\n",
      "step 2900: train loss 2.7389, val loss 7.5060\n",
      "step 3000: train loss 2.6534, val loss 7.5511\n",
      "step 3100: train loss 2.6063, val loss 7.6209\n",
      "step 3200: train loss 2.5049, val loss 7.7696\n",
      "step 3300: train loss 2.4488, val loss 7.8565\n",
      "step 3400: train loss 2.3852, val loss 7.9471\n",
      "step 3500: train loss 2.2773, val loss 8.0279\n",
      "step 3600: train loss 2.2212, val loss 8.0670\n",
      "step 3700: train loss 2.1509, val loss 8.2339\n",
      "step 3800: train loss 2.0802, val loss 8.2417\n",
      "step 3900: train loss 2.0292, val loss 8.3376\n",
      "step 4000: train loss 1.9890, val loss 8.4489\n",
      "step 4100: train loss 1.9255, val loss 8.5959\n",
      "step 4200: train loss 1.8587, val loss 8.6757\n",
      "step 4300: train loss 1.8120, val loss 8.7884\n",
      "step 4400: train loss 1.7561, val loss 8.8082\n",
      "step 4500: train loss 1.7118, val loss 8.8789\n",
      "step 4600: train loss 1.6473, val loss 9.0313\n",
      "step 4700: train loss 1.6295, val loss 9.1333\n",
      "step 4800: train loss 1.5811, val loss 9.2217\n",
      "step 4900: train loss 1.5494, val loss 9.3394\n"
     ]
    }
   ],
   "source": [
    "# tok = Tokenizer()\n",
    "\n",
    "\n",
    "path = \"data.txt\"\n",
    "\n",
    "# data collection\n",
    "data = Data.get(path)\n",
    "\n",
    "# tokanization\n",
    "model_name = \"md-t01-gptTok-bgLM\"\n",
    "# tok.set_encoding(model_name, data)\n",
    "# tok.get_encoding(model_name)\n",
    "\n",
    "tok = tiktoken.get_encoding(\"gpt2\")\n",
    "enc_data = tok.encode(data)\n",
    "\n",
    "# setting parameters\n",
    "args = Config.pass_args()\n",
    "args[0] = 50257\n",
    "print(\"vocab size : \", args[0])\n",
    "\n",
    "# model genration\n",
    "test_model = Model()\n",
    "test_model.set_parameters(args)\n",
    "lm.set_parameters(args)\n",
    "\n",
    "test_model.set_model(lm.BigramLanguageModel())\n",
    "test_model.set_data(Data.train_test_split(enc_data))\n",
    "# test_model.load_model(model_name)\n",
    "test_model.optimize()\n",
    "test_model.train()\n"
   ]
  },
  {
   "cell_type": "markdown",
   "metadata": {},
   "source": []
  },
  {
   "cell_type": "code",
   "execution_count": 5,
   "metadata": {},
   "outputs": [],
   "source": [
    "test_model.save_model(model_name)"
   ]
  },
  {
   "cell_type": "code",
   "execution_count": 9,
   "metadata": {},
   "outputs": [
    {
     "name": "stdout",
     "output_type": "stream",
     "text": [
      "I love you read, as overI-52, you are all, a loved are\n",
      "THE THEORY OF LOVE 117 whohas him.\n",
      "The same emphasis in Both views on aspects, but wearehuman all types of exchange. In the opposite is not that sheent connection between their child, she must it. Hence thinking should receive its veryess Kali; when he does notaches to love; the childanxietyis the child are of giving must love the than to love.Inasmuch when we mean that using all one can do miracles, not do miracles, not liveser to be as much as everything, to receive unconditional—all persons dis nature, is a need to follow the child or mother; he promises he also she remainsutter her, sees only when they belong to her bodily sensitivity toward theattitudes.\n",
      "In all of fixation usually occurs after man not thinkingbut as others, but discipline, this need something apart; mother only one has nots, symbolized?\n",
      "As more since these viewsis that she\n",
      "sto take him, explores the evening, of it remains superficial they are affected by their bliss anxiety. At this path to receiving.\n",
      "than the insane. One premise,the otherm,the ability more conducive to mother, so on to be an\n",
      "poss discussion of the one's own human functioning, and for the object of duty, and we are all shareother with God,the prepondervercoming the mostkft grow from the center of truth. Tosecret is essentially the individualical character, the only one makes them on the children. Sheis that~oved/ is suffer is to be loved by a welove, is impossible for that of in two systems to do not one's breathing;not, but it\n",
      "it is now to be taught, such an alienated from whichimwardsity is taken rich. Theillusiones that for external I assume a pattern of the consciousness of this goal of this lack of separateism, it,fyou only the following discmanent and again his value; in our fellowman, and so a \"For\n",
      "than the book explores which one/ and to destroy. For the one's development: for the two individuals of the use of meaning of God. The mostele—alienable emphasis on the concept of\n",
      "THE THEORY OF LOVE 45phis trend of thought and complain bitterly about the earlieststage in thought. In contrast to live separate words, that all this I aml\n"
     ]
    }
   ],
   "source": [
    "pmt = tok.encode(\"I love you\")\n",
    "print(tok.decode(test_model.generate(pmt)))"
   ]
  },
  {
   "cell_type": "markdown",
   "metadata": {},
   "source": []
  }
 ],
 "metadata": {
  "kernelspec": {
   "display_name": "Python 3",
   "language": "python",
   "name": "python3"
  },
  "language_info": {
   "codemirror_mode": {
    "name": "ipython",
    "version": 3
   },
   "file_extension": ".py",
   "mimetype": "text/x-python",
   "name": "python",
   "nbconvert_exporter": "python",
   "pygments_lexer": "ipython3",
   "version": "3.11.4"
  },
  "orig_nbformat": 4
 },
 "nbformat": 4,
 "nbformat_minor": 2
}
